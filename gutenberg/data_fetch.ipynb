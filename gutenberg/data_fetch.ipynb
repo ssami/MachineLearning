{
 "cells": [
  {
   "cell_type": "code",
   "execution_count": 64,
   "metadata": {},
   "outputs": [],
   "source": [
    "import rdflib\n",
    "def create_map(file_path, file_num):\n",
    "    g = rdflib.Graph()\n",
    "    g.parse(file_path, 'rdf')\n",
    "#     # grab language\n",
    "#     lang_pred = rdflib.URIRef('http://purl.org/dc/terms/language')\n",
    "#     print(lang_pred)\n",
    "#     lang_obj = [i for i in g.objects(None, lang_pred)] \n",
    "#     print(lang_obj)\n",
    "#     lang = lang_obj[0] if len(lang_obj) > 0 else None\n",
    "#     print(lang)\n",
    "#     if (not lang or str(lang) is not 'en'):\n",
    "#         return None, None\n",
    "    # estimate publish date from author's birth/death\n",
    "    ## grab birth date\n",
    "    birth_pred = rdflib.URIRef('http://www.gutenberg.org/2009/pgterms/birthdate')\n",
    "    birth_obj = [i for i in g.objects(None, birth_pred)] \n",
    "    birth = birth_obj[0] if len(birth_obj) > 0 else None\n",
    "    #@ grab death date\n",
    "    death_pred = rdflib.URIRef('http://www.gutenberg.org/2009/pgterms/deathdate')\n",
    "    death_obj = [i for i in g.objects(None, death_pred)]\n",
    "    death = death_obj[0] if (len(death_obj) > 0 and birth is not None) else None\n",
    "    estimated_publish = None\n",
    "    ## estimate publish date\n",
    "    if death and birth: \n",
    "        estimated_publish = str((int(death) + int(birth)) / 2)\n",
    "    # grab uri for text\n",
    "    format_pred = rdflib.URIRef('http://purl.org/dc/terms/hasFormat')\n",
    "    subj = rdflib.URIRef('http://www.gutenberg.org/ebooks/{}'.format(file_num))\n",
    "    fmt_link = g.objects(subj, format_pred)\n",
    "    for i in fmt_link:\n",
    "        if 'txt' in i: #grab the first text url\n",
    "            return (str(i), estimated_publish)"
   ]
  },
  {
   "cell_type": "code",
   "execution_count": 65,
   "metadata": {},
   "outputs": [
    {
     "data": {
      "text/plain": [
       "('http://www.gutenberg.org/files/787/787.txt', '1875.0')"
      ]
     },
     "execution_count": 65,
     "metadata": {},
     "output_type": "execute_result"
    }
   ],
   "source": [
    "create_map('/Users/ssami/Documents/Personal/cache/epub/787/pg787.rdf', 787)"
   ]
  },
  {
   "cell_type": "code",
   "execution_count": 66,
   "metadata": {},
   "outputs": [],
   "source": [
    "import random, os\n",
    "path_prefix = '/Users/ssami/Documents/Personal/cache/epub'\n",
    "all_texts = os.listdir(path_prefix)\n",
    "random.shuffle(all_texts)\n",
    "sample_input_train = all_texts[:100]\n",
    "sample_input_test = all_texts[101:150]"
   ]
  },
  {
   "cell_type": "code",
   "execution_count": 67,
   "metadata": {
    "scrolled": true
   },
   "outputs": [],
   "source": [
    "# build random training data\n",
    "file_map = {}\n",
    "for i in sample_input_train: \n",
    "    file_path = os.path.join(path_prefix, i,'pg'+i+'.rdf')\n",
    "    file_map[i] = create_map(file_path, i)"
   ]
  },
  {
   "cell_type": "markdown",
   "metadata": {},
   "source": [
    "Validations to be done: \n",
    "1. Is the text in English?  \n",
    "2. Is publish date present? \n",
    "3. Is publish date > 0\n",
    "\n",
    "Data prep: \n",
    "1. Divide dates into buckets: 10, 50, 100 years\n",
    "2. Download data and store in files for each bucket"
   ]
  },
  {
   "cell_type": "code",
   "execution_count": 68,
   "metadata": {},
   "outputs": [],
   "source": [
    "def download_raw_text(url, output_path, max_content=50000, block_size=1024):\n",
    "    import requests\n",
    "    stream = requests.get(url, stream=True)\n",
    "    with open(output_path, 'wb') as fh: \n",
    "        count = 0\n",
    "        for block in stream.iter_content(block_size):\n",
    "            fh.write(block)\n",
    "            count += block_size\n",
    "            if count > max_content:\n",
    "                print(count)\n",
    "                break"
   ]
  },
  {
   "cell_type": "code",
   "execution_count": 69,
   "metadata": {},
   "outputs": [
    {
     "name": "stdout",
     "output_type": "stream",
     "text": [
      "50176\n"
     ]
    }
   ],
   "source": [
    "download_raw_text('http://www.gutenberg.org/cache/epub/2600/pg2600.txt', 'pg2600.txt')"
   ]
  },
  {
   "cell_type": "code",
   "execution_count": null,
   "metadata": {},
   "outputs": [],
   "source": []
  }
 ],
 "metadata": {
  "kernelspec": {
   "display_name": "Python 3",
   "language": "python",
   "name": "python3"
  },
  "language_info": {
   "codemirror_mode": {
    "name": "ipython",
    "version": 3
   },
   "file_extension": ".py",
   "mimetype": "text/x-python",
   "name": "python",
   "nbconvert_exporter": "python",
   "pygments_lexer": "ipython3",
   "version": "3.5.5"
  }
 },
 "nbformat": 4,
 "nbformat_minor": 1
}
