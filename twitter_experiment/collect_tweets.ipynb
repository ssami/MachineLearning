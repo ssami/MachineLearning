{
 "cells": [
  {
   "cell_type": "code",
   "execution_count": 20,
   "metadata": {
    "collapsed": false
   },
   "outputs": [
    {
     "name": "stdout",
     "output_type": "stream",
     "text": [
      "Populating the interactive namespace from numpy and matplotlib\n"
     ]
    }
   ],
   "source": [
    "%matplotlib inline\n",
    "%pylab inline\n",
    "pylab.rcParams['figure.figsize'] = (25, 10)"
   ]
  },
  {
   "cell_type": "code",
   "execution_count": 21,
   "metadata": {
    "collapsed": false
   },
   "outputs": [],
   "source": [
    "import pandas as pd\n",
    "import os, sys"
   ]
  },
  {
   "cell_type": "code",
   "execution_count": 22,
   "metadata": {
    "collapsed": false
   },
   "outputs": [],
   "source": [
    "tweet_dir = 'tweets_raw'\n",
    "full_tweets = os.getcwd() + os.sep + tweet_dir\n",
    "files = os.listdir(full_tweets)"
   ]
  },
  {
   "cell_type": "code",
   "execution_count": 23,
   "metadata": {
    "collapsed": false
   },
   "outputs": [],
   "source": [
    "# grab the first 99 tweets\n",
    "df = pd.DataFrame()\n",
    "df2 = pd.read_csv(full_tweets + os.sep + 'tweets_lang_99.csv', sep='\\t', header=None)"
   ]
  },
  {
   "cell_type": "code",
   "execution_count": 24,
   "metadata": {
    "collapsed": false
   },
   "outputs": [
    {
     "data": {
      "text/html": [
       "<div>\n",
       "<table border=\"1\" class=\"dataframe\">\n",
       "  <thead>\n",
       "    <tr style=\"text-align: right;\">\n",
       "      <th></th>\n",
       "      <th>0</th>\n",
       "      <th>1</th>\n",
       "    </tr>\n",
       "  </thead>\n",
       "  <tbody>\n",
       "    <tr>\n",
       "      <th>0</th>\n",
       "      <td>إضغط على منطقتك يتبين لك كم يتبقى من الوقت عن ...</td>\n",
       "      <td>ar</td>\n",
       "    </tr>\n",
       "    <tr>\n",
       "      <th>1</th>\n",
       "      <td>اللَّهٌمَّ صَلِّ وَسَلِّمْ عَلىٰ نَبِيِّنَآ مُ...</td>\n",
       "      <td>ar</td>\n",
       "    </tr>\n",
       "    <tr>\n",
       "      <th>2</th>\n",
       "      <td>@lliiilx  تم</td>\n",
       "      <td>ar</td>\n",
       "    </tr>\n",
       "    <tr>\n",
       "      <th>3</th>\n",
       "      <td>@Dinaa_ElAraby اها يا بيبي والله اتهرست علي تو...</td>\n",
       "      <td>ar</td>\n",
       "    </tr>\n",
       "    <tr>\n",
       "      <th>4</th>\n",
       "      <td>• افضل كتاب قرأته هو : أمي (ابراهام لنكولن)🌹�...</td>\n",
       "      <td>ar</td>\n",
       "    </tr>\n",
       "  </tbody>\n",
       "</table>\n",
       "</div>"
      ],
      "text/plain": [
       "                                                   0   1\n",
       "0  إضغط على منطقتك يتبين لك كم يتبقى من الوقت عن ...  ar\n",
       "1  اللَّهٌمَّ صَلِّ وَسَلِّمْ عَلىٰ نَبِيِّنَآ مُ...  ar\n",
       "2                                       @lliiilx  تم  ar\n",
       "3  @Dinaa_ElAraby اها يا بيبي والله اتهرست علي تو...  ar\n",
       "4  • افضل كتاب قرأته هو : أمي (ابراهام لنكولن)🌹�...  ar"
      ]
     },
     "execution_count": 24,
     "metadata": {},
     "output_type": "execute_result"
    }
   ],
   "source": [
    "df.append(df2).head()"
   ]
  },
  {
   "cell_type": "markdown",
   "metadata": {},
   "source": [
    "Now we can clearly see that tweets are problematic in terms of languages. Not only do we need to deal with non-alphanumeric characters, we also have to remove part-alphanumerics, like mentions, hashtags and others. We can't remove specific character sets either. We can also look at the list of character ranges for emoticons here: http://apps.timwhitlock.info/emoji/tables/unicode. Most of them start with \\xE or \\xF so we could use that to clean up the strings more. So we'll start by implementing some filters. Below is a very hacky way of removing these basic things. "
   ]
  },
  {
   "cell_type": "code",
   "execution_count": 25,
   "metadata": {
    "collapsed": false
   },
   "outputs": [
    {
     "name": "stdout",
     "output_type": "stream",
     "text": [
      "Before:  @Dinaa_ElAraby اها يا بيبي والله اتهرست علي تويتر و ع #keek some english https://t.co/vOR/aVpTnJ9?q=b  🌹🌹🌹🌹 text\n",
      "After mention replacement:\t اها يا بيبي والله اتهرست علي تويتر و ع #keek some english https://t.co/vOR/aVpTnJ9?q=b  🌹🌹🌹🌹 text\n",
      "After hashtag replacement:\t اها يا بيبي والله اتهرست علي تويتر و ع  some english https://t.co/vOR/aVpTnJ9?q=b  🌹🌹🌹🌹 text\n",
      "After url replacement:\t اها يا بيبي والله اتهرست علي تويتر و ع  some english text\n",
      "After emoticon replacement:\t اها يا بيبي والله اتهرست علي تويتر و ع  some english text\n"
     ]
    }
   ],
   "source": [
    "import re\n",
    "mention_patt = r'(\\@\\w*)'\n",
    "hash_patt = r'(\\#\\w*)'\n",
    "url_patt = r'(http[s?]\\:\\/\\/.*\\s)'\n",
    "emotic_patt = r'(\\s+[\\xe0-\\xf0].+\\s+)'\n",
    "test = \"@Dinaa_ElAraby اها يا بيبي والله اتهرست علي تويتر و ع #keek some english https://t.co/vOR/aVpTnJ9?q=b  🌹🌹🌹🌹 text\"\n",
    "print \"Before: \", test\n",
    "replaced = re.sub(mention_patt, '', test)\n",
    "print \"After mention replacement:\\t\", replaced\n",
    "replaced = re.sub(hash_patt, '', replaced)\n",
    "print \"After hashtag replacement:\\t\", replaced\n",
    "replaced = re.sub(url_patt, '', replaced)\n",
    "print \"After url replacement:\\t\", replaced\n",
    "replaced = re.sub(emotic_patt, '', replaced)\n",
    "print \"After emoticon replacement:\\t\", replaced"
   ]
  },
  {
   "cell_type": "markdown",
   "metadata": {
    "collapsed": true
   },
   "source": [
    "Now we can read in every CSV file, clean every tweet and load everything in to CSV. "
   ]
  },
  {
   "cell_type": "code",
   "execution_count": 26,
   "metadata": {
    "collapsed": false
   },
   "outputs": [
    {
     "data": {
      "text/plain": [
       "Unnamed: 0    88470\n",
       "tweet         88321\n",
       "lang          88425\n",
       "dtype: int64"
      ]
     },
     "execution_count": 26,
     "metadata": {},
     "output_type": "execute_result"
    }
   ],
   "source": [
    "all_tweets = pd.read_csv('tweets_collected.tsv', sep='\\t')\n",
    "all_tweets.count(axis=0)"
   ]
  },
  {
   "cell_type": "markdown",
   "metadata": {},
   "source": [
    "This is strange and worrying. We have an extra column -- probably from the CSV files' index numbers -- and our tweets and languages numbers don't match up. What's probably happened is that we have some corrupted tweets, and some corrupted languages. Thankfully their numbers are small enough to (hopefully) not make a huge difference to our dataset. "
   ]
  },
  {
   "cell_type": "code",
   "execution_count": 27,
   "metadata": {
    "collapsed": false
   },
   "outputs": [
    {
     "data": {
      "text/html": [
       "<div>\n",
       "<table border=\"1\" class=\"dataframe\">\n",
       "  <thead>\n",
       "    <tr style=\"text-align: right;\">\n",
       "      <th></th>\n",
       "      <th>Unnamed: 0</th>\n",
       "      <th>tweet</th>\n",
       "      <th>lang</th>\n",
       "    </tr>\n",
       "  </thead>\n",
       "  <tbody>\n",
       "    <tr>\n",
       "      <th>0</th>\n",
       "      <td>69</td>\n",
       "      <td>As oportunidades nunca são perdidas, alguém va...</td>\n",
       "      <td>pt</td>\n",
       "    </tr>\n",
       "    <tr>\n",
       "      <th>1</th>\n",
       "      <td>70</td>\n",
       "      <td>voltei rs</td>\n",
       "      <td>pt</td>\n",
       "    </tr>\n",
       "    <tr>\n",
       "      <th>2</th>\n",
       "      <td>71</td>\n",
       "      <td>É tão bom falar sozinho neste site</td>\n",
       "      <td>pt</td>\n",
       "    </tr>\n",
       "    <tr>\n",
       "      <th>3</th>\n",
       "      <td>72</td>\n",
       "      <td>Nossa malhei hoje de mais to completamente morta</td>\n",
       "      <td>pt</td>\n",
       "    </tr>\n",
       "    <tr>\n",
       "      <th>4</th>\n",
       "      <td>73</td>\n",
       "      <td>Estou com saudades das minhas amigas Kassiane ...</td>\n",
       "      <td>pt</td>\n",
       "    </tr>\n",
       "  </tbody>\n",
       "</table>\n",
       "</div>"
      ],
      "text/plain": [
       "   Unnamed: 0                                              tweet lang\n",
       "0          69  As oportunidades nunca são perdidas, alguém va...   pt\n",
       "1          70                                          voltei rs   pt\n",
       "2          71                 É tão bom falar sozinho neste site   pt\n",
       "3          72   Nossa malhei hoje de mais to completamente morta   pt\n",
       "4          73  Estou com saudades das minhas amigas Kassiane ...   pt"
      ]
     },
     "execution_count": 27,
     "metadata": {},
     "output_type": "execute_result"
    }
   ],
   "source": [
    "all_tweets.head()"
   ]
  },
  {
   "cell_type": "markdown",
   "metadata": {},
   "source": [
    "Now we count the rows where tweet or language is null. We find that the \"unnamed\" column is actually equal to the null tweets + null languages. "
   ]
  },
  {
   "cell_type": "code",
   "execution_count": 28,
   "metadata": {
    "collapsed": false
   },
   "outputs": [
    {
     "data": {
      "text/plain": [
       "Unnamed: 0    194\n",
       "tweet          45\n",
       "lang          149\n",
       "dtype: int64"
      ]
     },
     "execution_count": 28,
     "metadata": {},
     "output_type": "execute_result"
    }
   ],
   "source": [
    "all_tweets.loc[all_tweets['tweet'].isnull() | \n",
    "              all_tweets['lang'].isnull()].count()"
   ]
  },
  {
   "cell_type": "markdown",
   "metadata": {},
   "source": [
    "We can now drop all the nulls and check again to see if the languages and tweets add up. "
   ]
  },
  {
   "cell_type": "code",
   "execution_count": 29,
   "metadata": {
    "collapsed": false
   },
   "outputs": [],
   "source": [
    "nona_all_tweets = all_tweets.dropna()"
   ]
  },
  {
   "cell_type": "code",
   "execution_count": 30,
   "metadata": {
    "collapsed": false
   },
   "outputs": [
    {
     "data": {
      "text/plain": [
       "Unnamed: 0    88276\n",
       "tweet         88276\n",
       "lang          88276\n",
       "dtype: int64"
      ]
     },
     "execution_count": 30,
     "metadata": {},
     "output_type": "execute_result"
    }
   ],
   "source": [
    "nona_all_tweets.count()"
   ]
  },
  {
   "cell_type": "code",
   "execution_count": 31,
   "metadata": {
    "collapsed": false
   },
   "outputs": [],
   "source": [
    "tweet_data = nona_all_tweets.drop(nona_all_tweets.columns[0], axis=1)"
   ]
  },
  {
   "cell_type": "markdown",
   "metadata": {},
   "source": [
    "We just dropped the extra column and arranged everything so we can see our data more accurately. "
   ]
  },
  {
   "cell_type": "code",
   "execution_count": 32,
   "metadata": {
    "collapsed": false
   },
   "outputs": [
    {
     "data": {
      "text/html": [
       "<div>\n",
       "<table border=\"1\" class=\"dataframe\">\n",
       "  <thead>\n",
       "    <tr style=\"text-align: right;\">\n",
       "      <th></th>\n",
       "      <th>tweet</th>\n",
       "      <th>lang</th>\n",
       "    </tr>\n",
       "  </thead>\n",
       "  <tbody>\n",
       "    <tr>\n",
       "      <th>0</th>\n",
       "      <td>As oportunidades nunca são perdidas, alguém va...</td>\n",
       "      <td>pt</td>\n",
       "    </tr>\n",
       "    <tr>\n",
       "      <th>1</th>\n",
       "      <td>voltei rs</td>\n",
       "      <td>pt</td>\n",
       "    </tr>\n",
       "    <tr>\n",
       "      <th>2</th>\n",
       "      <td>É tão bom falar sozinho neste site</td>\n",
       "      <td>pt</td>\n",
       "    </tr>\n",
       "    <tr>\n",
       "      <th>3</th>\n",
       "      <td>Nossa malhei hoje de mais to completamente morta</td>\n",
       "      <td>pt</td>\n",
       "    </tr>\n",
       "    <tr>\n",
       "      <th>4</th>\n",
       "      <td>Estou com saudades das minhas amigas Kassiane ...</td>\n",
       "      <td>pt</td>\n",
       "    </tr>\n",
       "  </tbody>\n",
       "</table>\n",
       "</div>"
      ],
      "text/plain": [
       "                                               tweet lang\n",
       "0  As oportunidades nunca são perdidas, alguém va...   pt\n",
       "1                                          voltei rs   pt\n",
       "2                 É tão bom falar sozinho neste site   pt\n",
       "3   Nossa malhei hoje de mais to completamente morta   pt\n",
       "4  Estou com saudades das minhas amigas Kassiane ...   pt"
      ]
     },
     "execution_count": 32,
     "metadata": {},
     "output_type": "execute_result"
    }
   ],
   "source": [
    "tweet_data.head()"
   ]
  },
  {
   "cell_type": "code",
   "execution_count": 33,
   "metadata": {
    "collapsed": false
   },
   "outputs": [
    {
     "data": {
      "text/plain": [
       "tweet    7032\n",
       "lang     7032\n",
       "dtype: int64"
      ]
     },
     "execution_count": 33,
     "metadata": {},
     "output_type": "execute_result"
    }
   ],
   "source": [
    "tweet_data.loc[tweet_data['lang'] == 'und'].count()"
   ]
  },
  {
   "cell_type": "markdown",
   "metadata": {},
   "source": [
    "The problem now is that we have a lot of tweets which can't be characterized into a specific language. Fine, we can live with that for now and treat \"und\" as a class. "
   ]
  },
  {
   "cell_type": "code",
   "execution_count": 34,
   "metadata": {
    "collapsed": false
   },
   "outputs": [],
   "source": [
    "import seaborn as sb"
   ]
  },
  {
   "cell_type": "code",
   "execution_count": 35,
   "metadata": {
    "collapsed": false
   },
   "outputs": [
    {
     "data": {
      "text/plain": [
       "<matplotlib.axes._subplots.AxesSubplot at 0x10eb30c50>"
      ]
     },
     "execution_count": 35,
     "metadata": {},
     "output_type": "execute_result"
    },
    {
     "data": {
      "image/png": "[encoded data removed]",
      "text/plain": [
       "<matplotlib.figure.Figure at 0x1078aa250>"
      ]
     },
     "metadata": {},
     "output_type": "display_data"
    }
   ],
   "source": [
    "sb.countplot(x='lang', data=tweet_data)"
   ]
  },
  {
   "cell_type": "markdown",
   "metadata": {},
   "source": [
    "Now that we've done a lot of clean up -- dropped N/A rows (could be because of corrupted downloads) and removed our unnecessary column (probably the index from the smaller CSV files) -- we can actually move on to processing the data. "
   ]
  },
  {
   "cell_type": "code",
   "execution_count": null,
   "metadata": {
    "collapsed": true
   },
   "outputs": [],
   "source": []
  }
 ],
 "metadata": {
  "kernelspec": {
   "display_name": "Python 2",
   "language": "python",
   "name": "python2"
  },
  "language_info": {
   "codemirror_mode": {
    "name": "ipython",
    "version": 2
   },
   "file_extension": ".py",
   "mimetype": "text/x-python",
   "name": "python",
   "nbconvert_exporter": "python",
   "pygments_lexer": "ipython2",
   "version": "2.7.11"
  }
 },
 "nbformat": 4,
 "nbformat_minor": 0
}
