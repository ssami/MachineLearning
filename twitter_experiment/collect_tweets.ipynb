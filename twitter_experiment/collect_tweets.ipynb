{
 "cells": [
  {
   "cell_type": "code",
   "execution_count": 5,
   "metadata": {
    "collapsed": false
   },
   "outputs": [
    {
     "name": "stdout",
     "output_type": "stream",
     "text": [
      "/Users/ssami/Git_personal/MachineLearning/twitter_experiment\n"
     ]
    }
   ],
   "source": [
    "import pandas as pd\n",
    "import os, sys"
   ]
  },
  {
   "cell_type": "code",
   "execution_count": 14,
   "metadata": {
    "collapsed": false
   },
   "outputs": [],
   "source": [
    "tweet_dir = 'tweets_raw'\n",
    "full_tweets = os.getcwd() + os.sep + tweet_dir\n",
    "files = os.listdir(full_tweets)"
   ]
  },
  {
   "cell_type": "code",
   "execution_count": 66,
   "metadata": {
    "collapsed": false
   },
   "outputs": [
    {
     "ename": "NameError",
     "evalue": "name 'pd' is not defined",
     "output_type": "error",
     "traceback": [
      "\u001b[0;31m---------------------------------------------------------------------------\u001b[0m",
      "\u001b[0;31mNameError\u001b[0m                                 Traceback (most recent call last)",
      "\u001b[0;32m<ipython-input-66-8bbb752ffe53>\u001b[0m in \u001b[0;36m<module>\u001b[0;34m()\u001b[0m\n\u001b[1;32m      1\u001b[0m \u001b[0;31m# grab the first 99 tweets\u001b[0m\u001b[0;34m\u001b[0m\u001b[0;34m\u001b[0m\u001b[0m\n\u001b[0;32m----> 2\u001b[0;31m \u001b[0mdf\u001b[0m \u001b[0;34m=\u001b[0m \u001b[0mpd\u001b[0m\u001b[0;34m.\u001b[0m\u001b[0mDataFrame\u001b[0m\u001b[0;34m(\u001b[0m\u001b[0;34m)\u001b[0m\u001b[0;34m\u001b[0m\u001b[0m\n\u001b[0m\u001b[1;32m      3\u001b[0m \u001b[0mdf2\u001b[0m \u001b[0;34m=\u001b[0m \u001b[0mpd\u001b[0m\u001b[0;34m.\u001b[0m\u001b[0mread_csv\u001b[0m\u001b[0;34m(\u001b[0m\u001b[0mfull_tweets\u001b[0m \u001b[0;34m+\u001b[0m \u001b[0mos\u001b[0m\u001b[0;34m.\u001b[0m\u001b[0msep\u001b[0m \u001b[0;34m+\u001b[0m \u001b[0;34m'tweets_lang_99.csv'\u001b[0m\u001b[0;34m,\u001b[0m \u001b[0msep\u001b[0m\u001b[0;34m=\u001b[0m\u001b[0;34m'\\t'\u001b[0m\u001b[0;34m,\u001b[0m \u001b[0mheader\u001b[0m\u001b[0;34m=\u001b[0m\u001b[0mNone\u001b[0m\u001b[0;34m)\u001b[0m\u001b[0;34m\u001b[0m\u001b[0m\n",
      "\u001b[0;31mNameError\u001b[0m: name 'pd' is not defined"
     ]
    }
   ],
   "source": [
    "# grab the first 99 tweets\n",
    "df = pd.DataFrame()\n",
    "df2 = pd.read_csv(full_tweets + os.sep + 'tweets_lang_99.csv', sep='\\t', header=None)"
   ]
  },
  {
   "cell_type": "code",
   "execution_count": 27,
   "metadata": {
    "collapsed": false
   },
   "outputs": [
    {
     "data": {
      "text/html": [
       "<div>\n",
       "<table border=\"1\" class=\"dataframe\">\n",
       "  <thead>\n",
       "    <tr style=\"text-align: right;\">\n",
       "      <th></th>\n",
       "      <th>0</th>\n",
       "      <th>1</th>\n",
       "    </tr>\n",
       "  </thead>\n",
       "  <tbody>\n",
       "    <tr>\n",
       "      <th>0</th>\n",
       "      <td>إضغط على منطقتك يتبين لك كم يتبقى من الوقت عن ...</td>\n",
       "      <td>ar</td>\n",
       "    </tr>\n",
       "    <tr>\n",
       "      <th>1</th>\n",
       "      <td>اللَّهٌمَّ صَلِّ وَسَلِّمْ عَلىٰ نَبِيِّنَآ مُ...</td>\n",
       "      <td>ar</td>\n",
       "    </tr>\n",
       "    <tr>\n",
       "      <th>2</th>\n",
       "      <td>@lliiilx  تم</td>\n",
       "      <td>ar</td>\n",
       "    </tr>\n",
       "    <tr>\n",
       "      <th>3</th>\n",
       "      <td>@Dinaa_ElAraby اها يا بيبي والله اتهرست علي تو...</td>\n",
       "      <td>ar</td>\n",
       "    </tr>\n",
       "    <tr>\n",
       "      <th>4</th>\n",
       "      <td>• افضل كتاب قرأته هو : أمي (ابراهام لنكولن)🌹�...</td>\n",
       "      <td>ar</td>\n",
       "    </tr>\n",
       "  </tbody>\n",
       "</table>\n",
       "</div>"
      ],
      "text/plain": [
       "                                                   0   1\n",
       "0  إضغط على منطقتك يتبين لك كم يتبقى من الوقت عن ...  ar\n",
       "1  اللَّهٌمَّ صَلِّ وَسَلِّمْ عَلىٰ نَبِيِّنَآ مُ...  ar\n",
       "2                                       @lliiilx  تم  ar\n",
       "3  @Dinaa_ElAraby اها يا بيبي والله اتهرست علي تو...  ar\n",
       "4  • افضل كتاب قرأته هو : أمي (ابراهام لنكولن)🌹�...  ar"
      ]
     },
     "execution_count": 27,
     "metadata": {},
     "output_type": "execute_result"
    }
   ],
   "source": [
    "df.append(df2).head()"
   ]
  },
  {
   "cell_type": "markdown",
   "metadata": {},
   "source": [
    "Now we can clearly see that tweets are problematic in terms of languages. Not only do we need to deal with non-alphanumeric characters, we also have to remove part-alphanumerics, like mentions, hashtags and others. We can't remove specific character sets either. We can also look at the list of character ranges for emoticons here: http://apps.timwhitlock.info/emoji/tables/unicode. Most of them start with \\xE or \\xF so we could use that to clean up the strings more. So we'll start by implementing some filters. Below is a very hacky way of removing these basic things. "
   ]
  },
  {
   "cell_type": "code",
   "execution_count": 1,
   "metadata": {
    "collapsed": false
   },
   "outputs": [
    {
     "name": "stdout",
     "output_type": "stream",
     "text": [
      "Before:  @Dinaa_ElAraby اها يا بيبي والله اتهرست علي تويتر و ع #keek some english https://t.co/vOR/aVpTnJ9?q=b  🌹🌹🌹🌹 text\n",
      "After mention replacement:\t اها يا بيبي والله اتهرست علي تويتر و ع #keek some english https://t.co/vOR/aVpTnJ9?q=b  🌹🌹🌹🌹 text\n",
      "After hashtag replacement:\t اها يا بيبي والله اتهرست علي تويتر و ع  some english https://t.co/vOR/aVpTnJ9?q=b  🌹🌹🌹🌹 text\n",
      "After url replacement:\t اها يا بيبي والله اتهرست علي تويتر و ع  some english text\n",
      "After emoticon replacement:\t اها يا بيبي والله اتهرست علي تويتر و ع  some english text\n"
     ]
    }
   ],
   "source": [
    "import re\n",
    "mention_patt = r'(\\@\\w*)'\n",
    "hash_patt = r'(\\#\\w*)'\n",
    "url_patt = r'(http[s?]\\:\\/\\/.*\\s)'\n",
    "emotic_patt = r'(^[\\xe0-\\xf0])'\n",
    "test = \"@Dinaa_ElAraby اها يا بيبي والله اتهرست علي تويتر و ع #keek some english https://t.co/vOR/aVpTnJ9?q=b  🌹🌹🌹🌹 text\"\n",
    "print \"Before: \", test\n",
    "replaced = re.sub(mention_patt, '', test)\n",
    "print \"After mention replacement:\\t\", replaced\n",
    "replaced = re.sub(hash_patt, '', replaced)\n",
    "print \"After hashtag replacement:\\t\", replaced\n",
    "replaced = re.sub(url_patt, '', replaced)\n",
    "print \"After url replacement:\\t\", replaced\n",
    "#eplaced = re.sub(emotic_patt, '', replaced)\n",
    "print \"After emoticon replacement:\\t\", replaced"
   ]
  },
  {
   "cell_type": "markdown",
   "metadata": {
    "collapsed": true
   },
   "source": [
    "Now we can read in every CSV file, clean every tweet and load everything in to CSV. "
   ]
  },
  {
   "cell_type": "code",
   "execution_count": 43,
   "metadata": {
    "collapsed": false
   },
   "outputs": [],
   "source": [
    "from pandas import DataFrame\n",
    "d = DataFrame(data=None, columns=['tweets', 'lang'])"
   ]
  },
  {
   "cell_type": "code",
   "execution_count": 44,
   "metadata": {
    "collapsed": false
   },
   "outputs": [
    {
     "name": "stdout",
     "output_type": "stream",
     "text": [
      "TMP:     tweets lang\n",
      "0  thingy   ar\n"
     ]
    }
   ],
   "source": [
    "#data = {'tweets': 'thingy', 'lang': 'ar'}\n",
    "data = [('thingy', 'ar')]\n",
    "tmp = DataFrame(data=data, columns=['tweets', 'lang'], index=range(len(data)))\n",
    "print \"TMP: \", tmp"
   ]
  },
  {
   "cell_type": "code",
   "execution_count": 47,
   "metadata": {
    "collapsed": false
   },
   "outputs": [
    {
     "name": "stdout",
     "output_type": "stream",
     "text": [
      "D:     tweets lang\n",
      "0  thingy   ar\n",
      "0  thingy   ar\n",
      "0  thingy   ar\n",
      "tweets    3\n",
      "lang      3\n",
      "dtype: int64\n"
     ]
    }
   ],
   "source": [
    "d = d.append(tmp)\n",
    "print \"D: \", d\n",
    "print d.count(axis=0)"
   ]
  },
  {
   "cell_type": "code",
   "execution_count": 14,
   "metadata": {
    "collapsed": false
   },
   "outputs": [
    {
     "name": "stdout",
     "output_type": "stream",
     "text": [
      "0\n"
     ]
    }
   ],
   "source": []
  },
  {
   "cell_type": "code",
   "execution_count": null,
   "metadata": {
    "collapsed": true
   },
   "outputs": [],
   "source": []
  }
 ],
 "metadata": {
  "kernelspec": {
   "display_name": "Python 2",
   "language": "python",
   "name": "python2"
  },
  "language_info": {
   "codemirror_mode": {
    "name": "ipython",
    "version": 2
   },
   "file_extension": ".py",
   "mimetype": "text/x-python",
   "name": "python",
   "nbconvert_exporter": "python",
   "pygments_lexer": "ipython2",
   "version": "2.7.11"
  }
 },
 "nbformat": 4,
 "nbformat_minor": 0
}
