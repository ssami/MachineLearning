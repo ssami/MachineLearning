{
 "cells": [
  {
   "cell_type": "markdown",
   "metadata": {},
   "source": [
    "Linear regression example for simple classification on breast cancer data (malignant vs. benign). Uses a single featured data set, then multifeatured, then the entire feature set. "
   ]
  },
  {
   "cell_type": "code",
   "execution_count": 47,
   "metadata": {},
   "outputs": [
    {
     "name": "stdout",
     "output_type": "stream",
     "text": [
      "target:  [0 0 0 0 0 0 0 0 0 0]\n",
      "target names:  ['malignant' 'benign']\n",
      "feature names:  ['mean radius' 'mean texture' 'mean perimeter' 'mean area'\n",
      " 'mean smoothness' 'mean compactness' 'mean concavity'\n",
      " 'mean concave points' 'mean symmetry' 'mean fractal dimension'\n",
      " 'radius error' 'texture error' 'perimeter error' 'area error'\n",
      " 'smoothness error' 'compactness error' 'concavity error'\n",
      " 'concave points error' 'symmetry error' 'fractal dimension error'\n",
      " 'worst radius' 'worst texture' 'worst perimeter' 'worst area'\n",
      " 'worst smoothness' 'worst compactness' 'worst concavity'\n",
      " 'worst concave points' 'worst symmetry' 'worst fractal dimension']\n",
      "feature size:  30\n"
     ]
    }
   ],
   "source": [
    "from sklearn.datasets import load_breast_cancer\n",
    "from sklearn.linear_model import LinearRegression\n",
    "import numpy as np\n",
    "bc = load_breast_cancer()\n",
    "print('target: ', bc.target[:10]) # type of classification\n",
    "print('target names: ',  bc.target_names)\n",
    "print('feature names: ', bc.feature_names)\n",
    "print('feature size: ', len(bc.feature_names))"
   ]
  },
  {
   "cell_type": "code",
   "execution_count": 62,
   "metadata": {},
   "outputs": [],
   "source": [
    "# use only one feature here: in this case, 'mean area'\n",
    "feature_index = 3\n",
    "area_data = bc.data[:, np.newaxis, feature_index]\n",
    "# use the first three features\n",
    "several_features = bc.data[:, :3]\n",
    "datasets = [area_data, several_features, bc.data]\n",
    "\n",
    "# pick twenty for test and the rest for training\n",
    "data_Y_test = bc.target[:20]\n",
    "data_Y_train = bc.target[20:]"
   ]
  },
  {
   "cell_type": "code",
   "execution_count": 73,
   "metadata": {},
   "outputs": [],
   "source": [
    "def train_and_test(dts):\n",
    "    # pick the first twenty as test set\n",
    "    data_X_test = dts[:20]\n",
    "    # pick the rest as train set\n",
    "    data_X_train = dts[20:]\n",
    "    \n",
    "    linreg = LinearRegression()\n",
    "    linreg.fit(data_X_train, data_Y_train)\n",
    "    preds = linreg.predict(data_X_test)\n",
    "    bc_scores = linreg.score(data_X_test, data_Y_test)\n",
    "    \n",
    "    # show(data_X_test, data_Y_test, preds)\n",
    "    print(bc_scores)"
   ]
  },
  {
   "cell_type": "code",
   "execution_count": 74,
   "metadata": {},
   "outputs": [],
   "source": [
    "# won't work yet, x_test and y_test are not dimensionally same always\n",
    "def show(x_test, y_test, preds):\n",
    "    import matplotlib.pyplot as plt\n",
    "    plt.scatter(x_test, y_test)\n",
    "    plt.plot(x_test, preds)\n",
    "    plt.show()"
   ]
  },
  {
   "cell_type": "code",
   "execution_count": 75,
   "metadata": {},
   "outputs": [
    {
     "name": "stdout",
     "output_type": "stream",
     "text": [
      "-5.209270384747723\n",
      "-2.754519936963887\n",
      "-0.788243604515082\n"
     ]
    }
   ],
   "source": [
    "scores = [train_and_test(x) for x in datasets]"
   ]
  },
  {
   "cell_type": "code",
   "execution_count": null,
   "metadata": {},
   "outputs": [],
   "source": []
  }
 ],
 "metadata": {
  "kernelspec": {
   "display_name": "Python 3",
   "language": "python",
   "name": "python3"
  },
  "language_info": {
   "codemirror_mode": {
    "name": "ipython",
    "version": 3
   },
   "file_extension": ".py",
   "mimetype": "text/x-python",
   "name": "python",
   "nbconvert_exporter": "python",
   "pygments_lexer": "ipython3",
   "version": "3.7.0"
  }
 },
 "nbformat": 4,
 "nbformat_minor": 2
}
