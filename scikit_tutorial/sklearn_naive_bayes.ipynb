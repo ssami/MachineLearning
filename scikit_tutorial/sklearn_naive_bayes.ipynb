{
 "cells": [
  {
   "cell_type": "markdown",
   "metadata": {},
   "source": [
    "Naive Bayes - y value can be predicted with the naive assumption of a set of (conditional) independent features. Useful for document classification and spam filtering. SKLearn says NB is a \"decent classifier but bad predictor\" (https://scikit-learn.org/stable/modules/naive_bayes.html). "
   ]
  },
  {
   "cell_type": "code",
   "execution_count": 7,
   "metadata": {},
   "outputs": [
    {
     "name": "stdout",
     "output_type": "stream",
     "text": [
      "target:  [0 0 0 0 0 0 0 0 0 0]\n",
      "target names:  ['malignant' 'benign']\n",
      "feature names:  ['mean radius' 'mean texture' 'mean perimeter' 'mean area'\n",
      " 'mean smoothness' 'mean compactness' 'mean concavity'\n",
      " 'mean concave points' 'mean symmetry' 'mean fractal dimension'\n",
      " 'radius error' 'texture error' 'perimeter error' 'area error'\n",
      " 'smoothness error' 'compactness error' 'concavity error'\n",
      " 'concave points error' 'symmetry error' 'fractal dimension error'\n",
      " 'worst radius' 'worst texture' 'worst perimeter' 'worst area'\n",
      " 'worst smoothness' 'worst compactness' 'worst concavity'\n",
      " 'worst concave points' 'worst symmetry' 'worst fractal dimension']\n",
      "feature size:  30\n"
     ]
    }
   ],
   "source": [
    "from sklearn.datasets import load_breast_cancer\n",
    "import numpy as np\n",
    "bc = load_breast_cancer()\n",
    "print('target: ', bc.target[:10]) # type of classification\n",
    "print('target names: ',  bc.target_names)\n",
    "print('feature names: ', bc.feature_names)\n",
    "print('feature size: ', len(bc.feature_names))"
   ]
  },
  {
   "cell_type": "code",
   "execution_count": 8,
   "metadata": {},
   "outputs": [],
   "source": [
    "from sklearn.naive_bayes import GaussianNB"
   ]
  },
  {
   "cell_type": "code",
   "execution_count": 9,
   "metadata": {},
   "outputs": [],
   "source": [
    "# use only one feature here: in this case, 'mean area'\n",
    "feature_index = 3\n",
    "area_data = bc.data[:, np.newaxis, feature_index]\n",
    "# use the first three features\n",
    "several_features = bc.data[:, :3]\n",
    "datasets = [area_data, several_features, bc.data]\n",
    "\n",
    "# pick twenty for test and the rest for training\n",
    "data_Y_test = bc.target[:20]\n",
    "data_Y_train = bc.target[20:]"
   ]
  },
  {
   "cell_type": "code",
   "execution_count": 10,
   "metadata": {},
   "outputs": [],
   "source": [
    "def train_and_test(dts):\n",
    "    # pick the first twenty as test set\n",
    "    data_X_test = dts[:20]\n",
    "    # pick the rest as train set\n",
    "    data_X_train = dts[20:]\n",
    "    \n",
    "    gnb = GaussianNB()\n",
    "    gnb.fit(data_X_train, data_Y_train)\n",
    "    preds = gnb.predict(data_X_test)\n",
    "    bc_scores = gnb.score(data_X_test, data_Y_test)\n",
    "    \n",
    "    # show(data_X_test, data_Y_test, preds)\n",
    "    print(bc_scores)"
   ]
  },
  {
   "cell_type": "code",
   "execution_count": 11,
   "metadata": {},
   "outputs": [],
   "source": [
    "# won't work yet, x_test and y_test are not dimensionally same always\n",
    "def show(x_test, y_test, preds):\n",
    "    import matplotlib.pyplot as plt\n",
    "    plt.scatter(x_test, y_test)\n",
    "    plt.plot(x_test, preds)\n",
    "    plt.show()"
   ]
  },
  {
   "cell_type": "code",
   "execution_count": 13,
   "metadata": {},
   "outputs": [
    {
     "name": "stdout",
     "output_type": "stream",
     "text": [
      "0.6\n",
      "0.65\n",
      "0.95\n"
     ]
    }
   ],
   "source": [
    "# scores for GaussianNaiveBayes is just the mean accuracy of the entire set \n",
    "scores = [train_and_test(x) for x in datasets]"
   ]
  },
  {
   "cell_type": "code",
   "execution_count": null,
   "metadata": {},
   "outputs": [],
   "source": []
  }
 ],
 "metadata": {
  "kernelspec": {
   "display_name": "Python 3",
   "language": "python",
   "name": "python3"
  },
  "language_info": {
   "codemirror_mode": {
    "name": "ipython",
    "version": 3
   },
   "file_extension": ".py",
   "mimetype": "text/x-python",
   "name": "python",
   "nbconvert_exporter": "python",
   "pygments_lexer": "ipython3",
   "version": "3.7.0"
  }
 },
 "nbformat": 4,
 "nbformat_minor": 2
}
